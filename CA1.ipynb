{
 "cells": [
  {
   "cell_type": "code",
   "execution_count": 470,
   "metadata": {},
   "outputs": [],
   "source": [
    "import numpy as np#function to find maximum coins in matrix by robot\n",
    "\n",
    "def MaxCoin(r,c,CoinMatrix):    #2d matrix with rows=r+1 and columns=c+1 \n",
    "    final_array=[[0]*(c+1) for _ in range(r+1)]\n",
    "\n",
    "    #iterate through rows\n",
    "    for i in range(1, r+1):        #iterate through columns    \n",
    "        for j in range(1, c+1):          #find maximum number in 2d matrix and add 1 if the cell containing a coin \n",
    "            # print(final_array[i][j])\n",
    "            # print(i,j)\n",
    "            try:\n",
    "                final_array[i][j] = max(final_array[i-1][j], final_array[i][j-1], final_array[i+1][j-1]) + CoinMatrix[i-1][j-1]\n",
    "            except:\n",
    "                final_array[i][j] = max(final_array[i-1][j], final_array[i][j-1]) + CoinMatrix[i-1][j-1]\n",
    "\n",
    "\n",
    "    #print path\n",
    "    print('Coins collected by Robot at each level are:', ',\\n', np.flip(np.matrix(final_array), 1))    #print Maximum coin collected by robot\n",
    "    print('Maximum Coins collected by Robot are: ',final_array[r][c])"
   ]
  },
  {
   "cell_type": "code",
   "execution_count": 471,
   "metadata": {},
   "outputs": [
    {
     "name": "stdout",
     "output_type": "stream",
     "text": [
      "Input Matrix: \n",
      " [[1 1 0 1 0 0 0 1 1 0 1 1 1 0 0 1]\n",
      " [0 1 1 0 1 0 1 0 1 1 0 0 1 0 1 0]\n",
      " [1 0 1 0 1 0 1 0 1 0 1 0 1 0 1 0]\n",
      " [0 1 0 1 0 1 0 1 0 1 0 1 0 1 0 1]\n",
      " [1 1 1 0 0 0 1 1 1 0 0 0 1 1 1 0]\n",
      " [0 1 0 0 0 1 1 1 0 1 1 1 0 0 0 1]\n",
      " [0 0 1 1 0 0 1 1 0 0 1 1 0 0 1 1]\n",
      " [1 1 0 0 1 1 0 0 1 1 0 0 1 1 0 0]]\n"
     ]
    }
   ],
   "source": [
    "CoinMatrix=[[1, 1, 0, 1, 0, 0, 0, 1, 1, 0, 1, 1, 1, 0, 0, 1],\n",
    "            [0, 1, 1, 0, 1, 0, 1, 0, 1, 1, 0, 0, 1, 0, 1, 0],\n",
    "            [1, 0, 1, 0, 1, 0, 1, 0, 1, 0, 1, 0, 1, 0, 1, 0],\n",
    "            [0, 1, 0, 1, 0, 1, 0, 1, 0, 1, 0, 1, 0, 1, 0, 1],\n",
    "            [1, 1, 1, 0, 0, 0, 1, 1, 1, 0, 0, 0, 1, 1, 1, 0],\n",
    "            [0, 1, 0, 0, 0, 1, 1, 1, 0, 1, 1, 1, 0, 0, 0, 1],\n",
    "            [0, 0, 1, 1, 0, 0, 1, 1, 0, 0, 1, 1, 0, 0, 1, 1],\n",
    "            [1, 1, 0, 0, 1, 1, 0, 0, 1, 1, 0, 0, 1, 1, 0, 0]]\n",
    "\n",
    "print(\"Input Matrix: \\n\", np.matrix(CoinMatrix))\n",
    "\n",
    "CoinMatrix = np.flip(np.matrix(CoinMatrix), 1).tolist()"
   ]
  },
  {
   "cell_type": "code",
   "execution_count": 472,
   "metadata": {},
   "outputs": [],
   "source": [
    "rows = 8\n",
    "col = 16"
   ]
  },
  {
   "cell_type": "code",
   "execution_count": 473,
   "metadata": {},
   "outputs": [
    {
     "name": "stdout",
     "output_type": "stream",
     "text": [
      "Coins collected by Robot at each level are: ,\n",
      " [[ 0  0  0  0  0  0  0  0  0  0  0  0  0  0  0  0  0]\n",
      " [ 9  8  7  7  6  6  6  6  5  4  4  3  2  1  1  1  0]\n",
      " [10 10  9  8  8  7  7  6  6  5  4  3  3  2  2  1  0]\n",
      " [11 10 10  9  9  8  8  7  7  5  5  4  4  3  3  1  0]\n",
      " [11 11 10 10  9  9  8  8  7  6  5  5  4  4  3  2  0]\n",
      " [13 12 11 10 10 10 10  9  8  6  6  6  6  5  4  2  0]\n",
      " [13 13 12 12 12 12 11 10  9  9  8  7  6  5  4  3  0]\n",
      " [14 14 14 13 12 12 12 11  9  9  9  8  6  5  5  4  0]\n",
      " [16 15 14 14 14 13 12 11 11 10  9  8  7  6  5  4  0]]\n",
      "Maximum Coins collected by Robot are:  16\n"
     ]
    }
   ],
   "source": [
    "MaxCoin(rows,col,CoinMatrix) #call MaxCoin function with given parameters"
   ]
  },
  {
   "cell_type": "code",
   "execution_count": null,
   "metadata": {},
   "outputs": [],
   "source": []
  }
 ],
 "metadata": {
  "kernelspec": {
   "display_name": "Python 3",
   "language": "python",
   "name": "python3"
  },
  "language_info": {
   "codemirror_mode": {
    "name": "ipython",
    "version": 3
   },
   "file_extension": ".py",
   "mimetype": "text/x-python",
   "name": "python",
   "nbconvert_exporter": "python",
   "pygments_lexer": "ipython3",
   "version": "3.8.6 (tags/v3.8.6:db45529, Sep 23 2020, 15:52:53) [MSC v.1927 64 bit (AMD64)]"
  },
  "orig_nbformat": 4,
  "vscode": {
   "interpreter": {
    "hash": "e2cde104f4d18245c788b079dac12b495c585d850f7488bacbf703b0b6afa06c"
   }
  }
 },
 "nbformat": 4,
 "nbformat_minor": 2
}
