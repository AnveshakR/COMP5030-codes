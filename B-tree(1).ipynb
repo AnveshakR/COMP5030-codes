{
 "cells": [
  {
   "cell_type": "markdown",
   "id": "ee5632af",
   "metadata": {},
   "source": [
    "# B-Tree\n",
    "\n",
    "B-tree is a common data structure for managing data stored in hard disks. Because of the mechanincal movements of hard disks (arm moving and disk spining), it is most economical to bring a large chunk of data stored consecutively into the main memory in one disk-read operation and write a large chunkof data to a disk in one disk-read operation. This chunk of data is called a page. The size of one page ranges from $2^{11} = 2,048$ bytes to $2^{14} = 16,384$ bytes. B-tree stores one page of data in one node. To facilitate searching, each internal node can hold multiple keys. To cut down disk accesses, we want a B-tree to be short.\n",
    "\n",
    "<img src=\"Disk.png\" width=\"300\"/>\n",
    "\n",
    "The typical pattern for working with an object is as follows: \n",
    "\n",
    "$x$ is a pointer to some object\n",
    "DISK-READ($x$)\n",
    "operations that access and/or modify the attributes of $x$\n",
    "DISK-WRITE($x$) (omitted if no attributes of x were changed)\n",
    "other operations that access but do not modify attributes of $x$\n",
    "\n",
    "In a B-tree, as in any form of BST, any \"satellite information” (data) associated with a key resides in the same node as the key. Or we may think of a key as a point to the data.\n",
    "\n",
    "In a variant of B-tree called B$^+$-tree, all the satellite information (data) is stored in the leaves and the internal nodes only store keys and child pointers. This maximizes the branching factor of the internal nodes."
   ]
  },
  {
   "cell_type": "markdown",
   "id": "1c51d444",
   "metadata": {},
   "source": [
    "## B-tree definition \n",
    "\n",
    "A tree $T$ is a B-tree if it satisfies the following conditions:\n",
    "\n",
    "1. All leaves are at the same level.\n",
    "2. Let $t\\geq 2$ be a positive integer called a minimum degree, whose value is determined by the page size.\n",
    "3. Every node except the root must contain at least $t-1$ keys. If $T$ is not empty, then the root contains one or more keys.\n",
    "4. All nodes (the root included) may contain upto $2t – 1$ keys. A node is full if it contains exactly $2t-1$ keys.\n",
    "5. Each internal node of $k$ keys has $k+1$ children. Thus, an internal node may have at most $2t$ children. \n",
    "6. Keys of a node are sorted in increasing order. The child between two keys $k_1$ and $k_2$ contains all keys in the range between $k_1$ and $k_2$.\n",
    "\n",
    "\n",
    "The following is an example of 2-3-4 B-tree, i.e., each node has 2, 3, or 4 children:\n",
    "\n",
    "<img src=\"Fig18-1.png\" width=\"600\"/>\n",
    "\n"
   ]
  },
  {
   "cell_type": "markdown",
   "id": "4521abd4",
   "metadata": {},
   "source": [
    "## Properties\n",
    "\n",
    "1. B-Tree grows and shrinks from the root. This is different from BST, which grows downward and shrinks upward.\n",
    "2. Inserting a new node in B-tree happens only at the leave level.\n",
    "3. Like other balanced BST such as AVL and red-black trees, each operation of search, insert, and delete incurs $O(\\log_t n) = O(\\log n)$ disk accesses (see below), since the minimum degree $t$ is a constant.\n",
    "\n",
    "Let $h$ be the height of a B-tree $T$ with a minimum degree $t$. Let $n$ be the total number of keys in $T$. Then \n",
    "$$h \\leq \\log_t \\frac{n+1}{2}.$$\n",
    "\n",
    "Proof. \n",
    "\\begin{align*}\n",
    "n \\geq 1 + (2t + 2t^2 + \\cdots + 2t^{h-1})(t-1) = 1 + \\frac{2(t^h - 1)}{t-1}(t-1) = 2t^h -1.\n",
    "\\end{align*}"
   ]
  },
  {
   "cell_type": "markdown",
   "id": "9501cedd",
   "metadata": {},
   "source": [
    "## Applications of B-Trees\n",
    "\n",
    "1. Searching for data in a dataset stored on a hard disk can be achieved in significantly less time using the B-Tree\n",
    "2. Most servers use the B-tree to manage data.\n",
    "3. B-Trees are used in natural language processing, computer networks, and cryptography, among others."
   ]
  },
  {
   "cell_type": "markdown",
   "id": "d3ac039d",
   "metadata": {},
   "source": [
    "## B-tree search and insertion\n",
    "\n",
    "1. Without loss of generality, assume that the root of the B-tree is always in main memory, so that no disk-read on the root is needed. We only need to perform a disk-write of the root whenever the root node is changed.\n",
    "\n",
    "2. Any nodes that are passed as parameters must already have had a disk-read operation performed on them.\n",
    "\n",
    "3. Inserting a new key to a full root causes the root to split to a new root, and hence the height of the tree is incremented by 1. This is different from BST insertion.\n",
    "\n",
    "<img src=\"Split.png\" width=\"600\"/>\n",
    "\n",
    "<img src=\"Insertion.png\" width=\"600\"/>"
   ]
  },
  {
   "cell_type": "code",
   "execution_count": 1,
   "id": "5b5f7e0c",
   "metadata": {
    "ExecuteTime": {
     "end_time": "2023-01-21T00:18:13.155626Z",
     "start_time": "2023-01-21T00:18:13.130520Z"
    }
   },
   "outputs": [],
   "source": [
    "# Create a node\n",
    "class BTreeNode:\n",
    "    def __init__(self, leaf=False):\n",
    "        self.leaf = leaf\n",
    "        self.keys = []\n",
    "        self.child = []\n",
    "        \n",
    "# BTree\n",
    "class BTree:\n",
    "    def __init__(self, t): # t is the minimum degree\n",
    "        self.root = BTreeNode(True)\n",
    "        self.t = t\n",
    "\n",
    "    # Search key k starting from x\n",
    "    # If x is not specified, search k starting from the root\n",
    "    def search_key(self, k, x=None):\n",
    "        if x is None:\n",
    "            return self.search_key(k, self.root)\n",
    "        else: # x is a current node\n",
    "            i = 0\n",
    "            while i < len(x.keys) and k > x.keys[i][0]:\n",
    "                i += 1\n",
    "            if i < len(x.keys) and k == x.keys[i][0]:\n",
    "                return (x, i) # found k\n",
    "            elif x.leaf: # if k is not in x and x has no children\n",
    "                return None\n",
    "            else:\n",
    "                return self.search_key(k, x.child[i])\n",
    "               \n",
    "    # Insert key k, which is in th form of a pair key and content\n",
    "    def insert(self, k):\n",
    "        root = self.root\n",
    "        if len(root.keys) == 2 * self.t - 1: # full--no keys are available\n",
    "            temp = BTreeNode()\n",
    "            self.root = temp\n",
    "            temp.child.insert(0, root) \n",
    "            #list insert: at location 0, insert root; that is, temp points to root\n",
    "            self.split_child(temp, 0)\n",
    "            self.insert_non_full(temp, k)\n",
    "        else:\n",
    "            self.insert_non_full(root, k)\n",
    "            \n",
    "    # Split the child x at location i\n",
    "    def split_child(self, x, i): \n",
    "        t = self.t # minimum degree\n",
    "        y = x.child[i]\n",
    "        z = BTreeNode(y.leaf)\n",
    "        x.child.insert(i + 1, z) # list insert\n",
    "        x.keys.insert(i, y.keys[t - 1])\n",
    "        z.keys = y.keys[t: (2 * t) - 1]\n",
    "        y.keys = y.keys[0: t - 1]\n",
    "        if not y.leaf:\n",
    "            z.child = y.child[t: 2 * t]\n",
    "            y.child = y.child[0: t - 1]\n",
    "\n",
    "    # Insert nonfull\n",
    "    def insert_non_full(self, x, k):\n",
    "        i = len(x.keys) - 1\n",
    "        if x.leaf:\n",
    "            x.keys.append((None, None)) # add a new key pair holder (None, None)\n",
    "            while i >= 0 and k[0] < x.keys[i][0]:\n",
    "                x.keys[i + 1] = x.keys[i]\n",
    "                i -= 1\n",
    "            x.keys[i + 1] = k # insert k\n",
    "        else:\n",
    "            while i >= 0 and k[0] < x.keys[i][0]:\n",
    "                i -= 1\n",
    "            i += 1\n",
    "            if len(x.child[i].keys) == (2 * self.t) - 1:\n",
    "                self.split_child(x, i)\n",
    "                if k[0] > x.keys[i][0]:\n",
    "                    i += 1\n",
    "            self.insert_non_full(x.child[i], k)\n",
    "\n",
    "    # Print the tree\n",
    "    def print_tree(self, x, l=0):\n",
    "        print(\"Level \", l, \" \", len(x.keys), end=\":\")\n",
    "        for i in x.keys:\n",
    "            print(i, end=\" \")\n",
    "        print()\n",
    "        l += 1\n",
    "        if len(x.child) > 0:\n",
    "            for i in x.child:\n",
    "                self.print_tree(i, l)"
   ]
  },
  {
   "cell_type": "code",
   "execution_count": 10,
   "id": "0267c2fa",
   "metadata": {
    "ExecuteTime": {
     "end_time": "2023-01-21T00:19:24.009422Z",
     "start_time": "2023-01-21T00:19:24.002300Z"
    }
   },
   "outputs": [
    {
     "name": "stdout",
     "output_type": "stream",
     "text": [
      "Level  0   2:(2, 14) (5, 20) \n",
      "Level  1   2:(0, 10) (1, 12) \n",
      "Level  1   2:(3, 16) (4, 18) \n",
      "Level  1   4:(6, 22) (7, 24) (8, 26) (9, 28) \n",
      "\n",
      "Found\n",
      "\n",
      "Not Found\n"
     ]
    }
   ],
   "source": [
    "# driver code\n",
    "\n",
    "B = BTree(3) # t = 3\n",
    "    \n",
    "for i in range(10):\n",
    "    B.insert((i, 10 + 2 * i))\n",
    "\n",
    "B.print_tree(B.root)\n",
    "\n",
    "if B.search_key(8) is not None:\n",
    "    print(\"\\nFound\")\n",
    "else:\n",
    "    print(\"\\nNot Found\")\n",
    "\n",
    "if B.search_key(20) is not None:\n",
    "    print(\"\\nFound\")\n",
    "else:\n",
    "    print(\"\\nNot Found\")"
   ]
  },
  {
   "cell_type": "markdown",
   "id": "6e1bfaa8",
   "metadata": {},
   "source": [
    "## Delete a key from a B-tree\n",
    "\n",
    "Deleting a key from a B-tree consists of three main events: \n",
    "1. Determine by searching if a node that contains the key to be deleted exists.\n",
    "2. Delete the key from the node that contains it.\n",
    "3. Balance the tree if needed.\n",
    "\n",
    "B-tree deletion is more complex than red-black tree deletion.\n",
    "\n",
    "Underflow occurs when a node contains less than the minimum number of keys it should hold. \n",
    "\n",
    "Two terminologies:\n",
    "1. Inorder Predecessor of a node is the largest key on the left child of the node.\n",
    "2. Inorder Successor of a node is the smallest key on the right child of the node."
   ]
  },
  {
   "attachments": {},
   "cell_type": "markdown",
   "id": "5bb0735a",
   "metadata": {},
   "source": [
    "### Case I: The key to be deleted is in the leaf. There are two sub-cases:\n",
    "\n",
    "<b>I-1</b>: The node containing the key to be deleted has more than $t-1$ keys. Thus, deleting the key is straightforward, for it does not violate the property of the minimum number of keys a node should hold. In the tree below, deleting 32 does not violate the above properties, where $t = 2$.\n",
    "\n",
    "<img src=\"delete-leaf-1.webp\" width=\"450\"/>"
   ]
  },
  {
   "cell_type": "markdown",
   "id": "0bb70043",
   "metadata": {},
   "source": [
    "<b>I-2</b>: The node containing the key to be deleted has $t - 1$ keys. Thus, deleting the key violates the property of the minimum number of keys a node should hold. \n",
    "\n",
    "To maintain the property of B-tree, we first check if its immediate left sibling has at least $t$ keys, if so, borrow a key from it. If not, check if its immediate right sibling\n",
    "has at least $t$ keys, if so, borrow a key from it. \n",
    "\n",
    "In the tree below, deleting 31 yields a violation, and a key from the left sibling can be borrowed.\n",
    "\n",
    "<img src=\"delete-leaf-2.webp\" width=\"450\"/>"
   ]
  },
  {
   "cell_type": "markdown",
   "id": "04c1a39d",
   "metadata": {},
   "source": [
    "If both the immediate sibling nodes have $t-1$ keys, then merge the node with either the left sibling node or the right sibling node. This merging is done through the parent node.\n",
    "\n",
    "<img src=\"delete-leaf-3.webp\" width=\"450\"/>"
   ]
  },
  {
   "cell_type": "markdown",
   "id": "52bbec81",
   "metadata": {},
   "source": [
    "### Case II: The key to be deleted is in an internal node\n",
    "\n",
    "<b>II-1</b>: The internal node containing the key to be deleted is replaced by an inorder predecessor if the key's left child has more than $t-1$ keys.\n",
    "\n",
    "<img src=\"delete-internal-1.webp\" width=\"450\"/>\n"
   ]
  },
  {
   "cell_type": "markdown",
   "id": "026177ef",
   "metadata": {},
   "source": [
    "<b>II-2</b> The internal node containing the key to be deleted, is replaced by an inorder successor if the right child of the key has more than $t-1$ keys. This similar to case II.1.\n",
    "\n",
    "<b>II-3</b> Both children of the key have exactly $t-1$ keys, then merge the left and the right children.\n",
    "\n",
    "<img src=\"delete-internal-2.webp\" width=\"450\"/>\n",
    "\n",
    "After merging, if the parent node has less than $t-1$ keys, then look for its siblings as in Case I."
   ]
  },
  {
   "cell_type": "markdown",
   "id": "813bbd10",
   "metadata": {},
   "source": [
    "### Case III:  The height of the tree is reduced \n",
    "\n",
    "If the target key is in an internal node, and the deletion of the key leads to less than $t-1$ nodes, then look for the key's left child (inorder predecessor) and the key's right child (inorder successor). If both children contain $t-1$ keys, then merge the children as in Case II-3. \n",
    "\n",
    "Again, look for the sibling to borrow a key. But, if the sibling also has only $t-1$ keys, then merge the node with the sibling along with the parent. Arrange the children accordingly (increasing order).\n",
    "\n",
    "<img src=\"delete-internal_3.webp\" width=\"450\"/>"
   ]
  },
  {
   "cell_type": "code",
   "execution_count": 3,
   "id": "b987615b",
   "metadata": {
    "ExecuteTime": {
     "end_time": "2023-01-21T00:18:21.414045Z",
     "start_time": "2023-01-21T00:18:21.396948Z"
    }
   },
   "outputs": [],
   "source": [
    "# Delete a node\n",
    "def delete(self, x, k):\n",
    "    t = self.t\n",
    "    i = 0\n",
    "    while i < len(x.keys) and k[0] > x.keys[i][0]:\n",
    "        i += 1\n",
    "    if x.leaf:\n",
    "        if i < len(x.keys) and x.keys[i][0] == k[0]:\n",
    "            x.keys.pop(i)\n",
    "            return\n",
    "        return\n",
    "\n",
    "    if i < len(x.keys) and x.keys[i][0] == k[0]:\n",
    "        return self.delete_internal_node(x, k, i)\n",
    "    elif len(x.child[i].keys) >= t:\n",
    "        self.delete(x.child[i], k)\n",
    "    else:\n",
    "        if i != 0 and i + 2 < len(x.child):\n",
    "            if len(x.child[i - 1].keys) >= t:\n",
    "                self.delete_sibling(x, i, i - 1)\n",
    "            elif len(x.child[i + 1].keys) >= t:\n",
    "                self.delete_sibling(x, i, i + 1)\n",
    "            else:\n",
    "                self.delete_merge(x, i, i + 1)\n",
    "        elif i == 0:\n",
    "            if len(x.child[i + 1].keys) >= t:\n",
    "                self.delete_sibling(x, i, i + 1)\n",
    "            else:\n",
    "                self.delete_merge(x, i, i + 1)\n",
    "        elif i + 1 == len(x.child):\n",
    "            if len(x.child[i - 1].keys) >= t:\n",
    "                self.delete_sibling(x, i, i - 1)\n",
    "            else:\n",
    "                self.delete_merge(x, i, i - 1)\n",
    "        self.delete(x.child[i], k)\n",
    "\n",
    "setattr(BTree, 'delete', delete)\n",
    "\n"
   ]
  },
  {
   "cell_type": "code",
   "execution_count": 4,
   "id": "1c68cf7a",
   "metadata": {
    "ExecuteTime": {
     "end_time": "2023-01-21T00:18:22.134296Z",
     "start_time": "2023-01-21T00:18:22.123985Z"
    }
   },
   "outputs": [],
   "source": [
    "# Delete internal node\n",
    "def delete_internal_node(self, x, k, i):\n",
    "    t = self.t\n",
    "    if x.leaf:\n",
    "        if x.keys[i][0] == k[0]:\n",
    "            x.keys.pop(i)\n",
    "            return\n",
    "        return\n",
    "\n",
    "    if len(x.child[i].keys) >= t:\n",
    "        x.keys[i] = self.delete_predecessor(x.child[i])\n",
    "        return\n",
    "    elif len(x.child[i + 1].keys) >= t:\n",
    "        x.keys[i] = self.delete_successor(x.child[i + 1])\n",
    "        return\n",
    "    else:\n",
    "        self.delete_merge(x, i, i + 1)\n",
    "        self.delete_internal_node(x.child[i], k, self.t - 1)\n",
    "\n",
    "setattr(BTree, \"delete_internal_node\", delete_internal_node)          \n"
   ]
  },
  {
   "cell_type": "code",
   "execution_count": 5,
   "id": "2ca8b88e",
   "metadata": {
    "ExecuteTime": {
     "end_time": "2023-01-21T00:18:23.011307Z",
     "start_time": "2023-01-21T00:18:23.003749Z"
    }
   },
   "outputs": [],
   "source": [
    "# Delete the predecessor\n",
    "def delete_predecessor(self, x):\n",
    "    if x.leaf:\n",
    "        return x.pop()\n",
    "    n = len(x.keys) - 1\n",
    "    if len(x.child[n].keys) >= self.t:\n",
    "        self.delete_sibling(x, n + 1, n)\n",
    "    else:\n",
    "        self.delete_merge(x, n, n + 1)\n",
    "    self.delete_predecessor(x.child[n])\n",
    "\n",
    "setattr(BTree, \"delete_predecessor\", delete_predecessor)        "
   ]
  },
  {
   "cell_type": "code",
   "execution_count": 6,
   "id": "984bcc18",
   "metadata": {
    "ExecuteTime": {
     "end_time": "2023-01-21T00:18:23.786140Z",
     "start_time": "2023-01-21T00:18:23.779509Z"
    }
   },
   "outputs": [],
   "source": [
    "# Delete the successor\n",
    "def delete_successor(self, x):\n",
    "    if x.leaf:\n",
    "        return x.keys.pop(0)\n",
    "    if len(x.child[1].keys) >= self.t:\n",
    "        self.delete_sibling(x, 0, 1)\n",
    "    else:\n",
    "        self.delete_merge(x, 0, 1)\n",
    "    self.delete_successor(x.child[0])\n",
    "\n",
    "setattr(BTree, \"delete_successor\", delete_successor)    "
   ]
  },
  {
   "cell_type": "code",
   "execution_count": 7,
   "id": "cbc47afb",
   "metadata": {
    "ExecuteTime": {
     "end_time": "2023-01-21T00:18:25.374766Z",
     "start_time": "2023-01-21T00:18:25.361444Z"
    }
   },
   "outputs": [],
   "source": [
    "# Delete resolution\n",
    "def delete_merge(self, x, i, j):\n",
    "    cnode = x.child[i]\n",
    "\n",
    "    if j > i:\n",
    "        rsnode = x.child[j]\n",
    "        cnode.keys.append(x.keys[i])\n",
    "        for k in range(len(rsnode.keys)):\n",
    "            cnode.keys.append(rsnode.keys[k])\n",
    "            if len(rsnode.child) > 0:\n",
    "                cnode.child.append(rsnode.child[k])\n",
    "        if len(rsnode.child) > 0:\n",
    "            cnode.child.append(rsnode.child.pop())\n",
    "        new = cnode\n",
    "        x.keys.pop(i)\n",
    "        x.child.pop(j)\n",
    "    else:\n",
    "        lsnode = x.child[j]\n",
    "        lsnode.keys.append(x.keys[j])\n",
    "        for i in range(len(cnode.keys)):\n",
    "            lsnode.keys.append(cnode.keys[i])\n",
    "            if len(lsnode.child) > 0:\n",
    "                lsnode.child.append(cnode.child[i])\n",
    "        if len(lsnode.child) > 0:\n",
    "            lsnode.child.append(cnode.child.pop())\n",
    "        new = lsnode\n",
    "        x.keys.pop(j)\n",
    "        x.child.pop(i)\n",
    "\n",
    "    if x == self.root and len(x.keys) == 0:\n",
    "        self.root = new\n",
    "\n",
    "setattr(BTree, \"delete_merge\", delete_merge)     "
   ]
  },
  {
   "cell_type": "code",
   "execution_count": 8,
   "id": "69e3ce39",
   "metadata": {
    "ExecuteTime": {
     "end_time": "2023-01-21T00:18:26.403038Z",
     "start_time": "2023-01-21T00:18:26.392721Z"
    }
   },
   "outputs": [],
   "source": [
    "# Delete the sibling\n",
    "def delete_sibling(self, x, i, j):\n",
    "    cnode = x.child[i]\n",
    "    if i < j:\n",
    "        rsnode = x.child[j]\n",
    "        cnode.keys.append(x.keys[i])\n",
    "        x.keys[i] = rsnode.keys[0]\n",
    "        if len(rsnode.child) > 0:\n",
    "            cnode.child.append(rsnode.child[0])\n",
    "            rsnode.child.pop(0)\n",
    "        rsnode.keys.pop(0)\n",
    "    else:\n",
    "        lsnode = x.child[j]\n",
    "        cnode.keys.insert(0, x.keys[i - 1])\n",
    "        x.keys[i - 1] = lsnode.keys.pop()\n",
    "        if len(lsnode.child) > 0:\n",
    "            cnode.child.insert(0, lsnode.child.pop())\n",
    "\n",
    "setattr(BTree, \"delete_sibling\", delete_sibling) "
   ]
  },
  {
   "cell_type": "code",
   "execution_count": 12,
   "id": "b6dd9bcd",
   "metadata": {
    "ExecuteTime": {
     "end_time": "2023-01-21T00:19:41.536746Z",
     "start_time": "2023-01-21T00:19:41.531348Z"
    }
   },
   "outputs": [
    {
     "name": "stdout",
     "output_type": "stream",
     "text": [
      "Level  0   2:(2, 14) (5, 20) \n",
      "Level  1   2:(0, 10) (1, 12) \n",
      "Level  1   2:(3, 16) (4, 18) \n",
      "Level  1   3:(6, 22) (7, 24) (9, 28) \n"
     ]
    }
   ],
   "source": [
    "# driver code\n",
    "B.delete(B.root, (8,))\n",
    "B.print_tree(B.root)"
   ]
  },
  {
   "cell_type": "code",
   "execution_count": null,
   "id": "2dbdbc00",
   "metadata": {},
   "outputs": [],
   "source": []
  }
 ],
 "metadata": {
  "kernelspec": {
   "display_name": "Python 3",
   "language": "python",
   "name": "python3"
  },
  "language_info": {
   "codemirror_mode": {
    "name": "ipython",
    "version": 3
   },
   "file_extension": ".py",
   "mimetype": "text/x-python",
   "name": "python",
   "nbconvert_exporter": "python",
   "pygments_lexer": "ipython3",
   "version": "3.8.6"
  },
  "toc": {
   "base_numbering": 1,
   "nav_menu": {},
   "number_sections": true,
   "sideBar": true,
   "skip_h1_title": false,
   "title_cell": "Table of Contents",
   "title_sidebar": "Contents",
   "toc_cell": false,
   "toc_position": {},
   "toc_section_display": true,
   "toc_window_display": false
  },
  "varInspector": {
   "cols": {
    "lenName": 16,
    "lenType": 16,
    "lenVar": 40
   },
   "kernels_config": {
    "python": {
     "delete_cmd_postfix": "",
     "delete_cmd_prefix": "del ",
     "library": "var_list.py",
     "varRefreshCmd": "print(var_dic_list())"
    },
    "r": {
     "delete_cmd_postfix": ") ",
     "delete_cmd_prefix": "rm(",
     "library": "var_list.r",
     "varRefreshCmd": "cat(var_dic_list()) "
    }
   },
   "types_to_exclude": [
    "module",
    "function",
    "builtin_function_or_method",
    "instance",
    "_Feature"
   ],
   "window_display": false
  },
  "vscode": {
   "interpreter": {
    "hash": "e2cde104f4d18245c788b079dac12b495c585d850f7488bacbf703b0b6afa06c"
   }
  }
 },
 "nbformat": 4,
 "nbformat_minor": 5
}
