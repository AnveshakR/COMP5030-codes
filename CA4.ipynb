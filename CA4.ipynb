{
 "cells": [
  {
   "cell_type": "code",
   "execution_count": 27,
   "metadata": {},
   "outputs": [],
   "source": [
    "import numpy as np\n",
    "import collections\n",
    "\n",
    "class BTreeNode:\n",
    "    def __init__(self, t, leaf):\n",
    "        self.keys = []\n",
    "        self.children = []\n",
    "        self.leaf = leaf\n",
    "        self.t = t\n",
    "\n",
    "class BTree:\n",
    "    def __init__(self, t):\n",
    "        self.root = None\n",
    "        self.t = t\n",
    "        self.disk_accesses = 0\n",
    "        self.cache = collections.OrderedDict()\n",
    "        self.cache_capacity = 64 * 1024 // (t * 2 + 1)\n",
    "\n",
    "    def search(self, k):\n",
    "        if self.root is None:\n",
    "            return None\n",
    "        return self._search(self.root, k)\n",
    "\n",
    "    def _search(self, node, k):\n",
    "        i = 0\n",
    "        while i < len(node.keys) and k > node.keys[i][0]:\n",
    "            i += 1\n",
    "        if i < len(node.keys) and k == node.keys[i][0]:\n",
    "            return node\n",
    "        elif node.leaf:\n",
    "            return None\n",
    "        else:\n",
    "            if node.children[i] in self.cache:\n",
    "                child = self.cache[node.children[i]]\n",
    "            else:\n",
    "                child = self._read_node(node.children[i])\n",
    "                self.cache[node.children[i]] = child\n",
    "            self.disk_accesses += 1\n",
    "            return self._search(child, k)\n",
    "\n",
    "    def insert(self, k):\n",
    "        if self.root is None:\n",
    "            self.root = BTreeNode(self.t, True)\n",
    "            self.root.keys.append(k)\n",
    "        else:\n",
    "            if len(self.root.keys) == 2 * self.t - 1:\n",
    "                new_root = BTreeNode(self.t, False)\n",
    "                new_root.children.append(self.root)\n",
    "                self._split_child(new_root, 0, self.root)\n",
    "                self.root = new_root\n",
    "            self._insert(self.root, k)\n",
    "\n",
    "    def _insert(self, node, k):\n",
    "        i = len(node.keys) - 1\n",
    "        print(node.keys)\n",
    "        print(k)\n",
    "        if node.leaf:\n",
    "            while i >= 0 and k[0] < node.keys[i][0]:\n",
    "                node.keys[i + 1] = node.keys[i][0]\n",
    "                i -= 1\n",
    "            node.keys[i + 1] = k\n",
    "        else:\n",
    "            while i >= 0 and k[0] < node.keys[i][0]:\n",
    "                i -= 1\n",
    "            if len(node.children[i + 1].keys) == 2 * self.t - 1:\n",
    "                self._split_child(node, i + 1, node.children[i + 1])\n",
    "                if k[0] > node.keys[i + 1]:\n",
    "                    i += 1\n",
    "            self._insert(node.children[i + 1], k)\n",
    "\n",
    "    def _split_child(self, node, i, y):\n",
    "        z = BTreeNode(y.t, y.leaf)\n",
    "        node.children.insert(i + 1, z)\n",
    "        node.keys.insert(i, y.keys[y.t - 1])\n",
    "        z.keys = y.keys[y.t : 2 * y.t - 1]\n",
    "        y.keys = y.keys[0 : y.t - 1]\n",
    "        if not y.leaf:\n",
    "            z.children = y.children[y.t : 2 * y.t]\n",
    "            y.children = y.children[0 : y.t]\n",
    "\n",
    "    def _read_node(self, node_id):\n",
    "        # Here, we simulate reading a node from disk by generating a new node\n",
    "        # with randomly generated keys and children.\n",
    "        node = BTreeNode(self.t, False)\n",
    "        node.keys = [k + 1 for k in np.random.permutation(1000)[:2 * self.t - 1]]\n",
    "        node.children = [i for i in range(len(node.keys) + 1)]\n",
    "        return node    "
   ]
  },
  {
   "cell_type": "code",
   "execution_count": 28,
   "metadata": {},
   "outputs": [],
   "source": [
    "key_list = [k + 1 for k in np.random.permutation(100000)]\n",
    "search_list = [k + 1 for k in np.random.permutation(100000)]"
   ]
  },
  {
   "cell_type": "code",
   "execution_count": 29,
   "metadata": {},
   "outputs": [
    {
     "name": "stdout",
     "output_type": "stream",
     "text": [
      "10\n",
      "12\n",
      "[(0, 10)]\n",
      "(1, 12)\n"
     ]
    },
    {
     "ename": "IndexError",
     "evalue": "list assignment index out of range",
     "output_type": "error",
     "traceback": [
      "\u001b[1;31m---------------------------------------------------------------------------\u001b[0m",
      "\u001b[1;31mIndexError\u001b[0m                                Traceback (most recent call last)",
      "\u001b[1;32mc:\\Users\\anves\\Documents\\UML\\COMP5030 Algo\\CA4.ipynb Cell 3\u001b[0m in \u001b[0;36m<cell line: 3>\u001b[1;34m()\u001b[0m\n\u001b[0;32m      <a href='vscode-notebook-cell:/c%3A/Users/anves/Documents/UML/COMP5030%20Algo/CA4.ipynb#W2sZmlsZQ%3D%3D?line=2'>3</a>\u001b[0m \u001b[39mfor\u001b[39;00m i \u001b[39min\u001b[39;00m \u001b[39mrange\u001b[39m(\u001b[39m10\u001b[39m):\n\u001b[0;32m      <a href='vscode-notebook-cell:/c%3A/Users/anves/Documents/UML/COMP5030%20Algo/CA4.ipynb#W2sZmlsZQ%3D%3D?line=3'>4</a>\u001b[0m     \u001b[39mprint\u001b[39m(\u001b[39m10\u001b[39m \u001b[39m+\u001b[39m \u001b[39m2\u001b[39m \u001b[39m*\u001b[39mi)\n\u001b[1;32m----> <a href='vscode-notebook-cell:/c%3A/Users/anves/Documents/UML/COMP5030%20Algo/CA4.ipynb#W2sZmlsZQ%3D%3D?line=4'>5</a>\u001b[0m     B\u001b[39m.\u001b[39;49minsert((i, \u001b[39m10\u001b[39;49m \u001b[39m+\u001b[39;49m \u001b[39m2\u001b[39;49m \u001b[39m*\u001b[39;49mi))\n",
      "\u001b[1;32mc:\\Users\\anves\\Documents\\UML\\COMP5030 Algo\\CA4.ipynb Cell 3\u001b[0m in \u001b[0;36mBTree.insert\u001b[1;34m(self, k)\u001b[0m\n\u001b[0;32m     <a href='vscode-notebook-cell:/c%3A/Users/anves/Documents/UML/COMP5030%20Algo/CA4.ipynb#W2sZmlsZQ%3D%3D?line=48'>49</a>\u001b[0m     \u001b[39mself\u001b[39m\u001b[39m.\u001b[39m_split_child(new_root, \u001b[39m0\u001b[39m, \u001b[39mself\u001b[39m\u001b[39m.\u001b[39mroot)\n\u001b[0;32m     <a href='vscode-notebook-cell:/c%3A/Users/anves/Documents/UML/COMP5030%20Algo/CA4.ipynb#W2sZmlsZQ%3D%3D?line=49'>50</a>\u001b[0m     \u001b[39mself\u001b[39m\u001b[39m.\u001b[39mroot \u001b[39m=\u001b[39m new_root\n\u001b[1;32m---> <a href='vscode-notebook-cell:/c%3A/Users/anves/Documents/UML/COMP5030%20Algo/CA4.ipynb#W2sZmlsZQ%3D%3D?line=50'>51</a>\u001b[0m \u001b[39mself\u001b[39;49m\u001b[39m.\u001b[39;49m_insert(\u001b[39mself\u001b[39;49m\u001b[39m.\u001b[39;49mroot, k)\n",
      "\u001b[1;32mc:\\Users\\anves\\Documents\\UML\\COMP5030 Algo\\CA4.ipynb Cell 3\u001b[0m in \u001b[0;36mBTree._insert\u001b[1;34m(self, node, k)\u001b[0m\n\u001b[0;32m     <a href='vscode-notebook-cell:/c%3A/Users/anves/Documents/UML/COMP5030%20Algo/CA4.ipynb#W2sZmlsZQ%3D%3D?line=58'>59</a>\u001b[0m         node\u001b[39m.\u001b[39mkeys[i \u001b[39m+\u001b[39m \u001b[39m1\u001b[39m] \u001b[39m=\u001b[39m node\u001b[39m.\u001b[39mkeys[i][\u001b[39m0\u001b[39m]\n\u001b[0;32m     <a href='vscode-notebook-cell:/c%3A/Users/anves/Documents/UML/COMP5030%20Algo/CA4.ipynb#W2sZmlsZQ%3D%3D?line=59'>60</a>\u001b[0m         i \u001b[39m-\u001b[39m\u001b[39m=\u001b[39m \u001b[39m1\u001b[39m\n\u001b[1;32m---> <a href='vscode-notebook-cell:/c%3A/Users/anves/Documents/UML/COMP5030%20Algo/CA4.ipynb#W2sZmlsZQ%3D%3D?line=60'>61</a>\u001b[0m     node\u001b[39m.\u001b[39mkeys[i \u001b[39m+\u001b[39m \u001b[39m1\u001b[39m] \u001b[39m=\u001b[39m k\n\u001b[0;32m     <a href='vscode-notebook-cell:/c%3A/Users/anves/Documents/UML/COMP5030%20Algo/CA4.ipynb#W2sZmlsZQ%3D%3D?line=61'>62</a>\u001b[0m \u001b[39melse\u001b[39;00m:\n\u001b[0;32m     <a href='vscode-notebook-cell:/c%3A/Users/anves/Documents/UML/COMP5030%20Algo/CA4.ipynb#W2sZmlsZQ%3D%3D?line=62'>63</a>\u001b[0m     \u001b[39mwhile\u001b[39;00m i \u001b[39m>\u001b[39m\u001b[39m=\u001b[39m \u001b[39m0\u001b[39m \u001b[39mand\u001b[39;00m k[\u001b[39m0\u001b[39m] \u001b[39m<\u001b[39m node\u001b[39m.\u001b[39mkeys[i][\u001b[39m0\u001b[39m]:\n",
      "\u001b[1;31mIndexError\u001b[0m: list assignment index out of range"
     ]
    }
   ],
   "source": [
    "B = BTree(3)\n",
    "\n",
    "for i in range(10):\n",
    "    print(10 + 2 *i)\n",
    "    B.insert((i, 10 + 2 *i))"
   ]
  },
  {
   "cell_type": "code",
   "execution_count": null,
   "metadata": {},
   "outputs": [],
   "source": []
  }
 ],
 "metadata": {
  "kernelspec": {
   "display_name": "Python 3",
   "language": "python",
   "name": "python3"
  },
  "language_info": {
   "codemirror_mode": {
    "name": "ipython",
    "version": 3
   },
   "file_extension": ".py",
   "mimetype": "text/x-python",
   "name": "python",
   "nbconvert_exporter": "python",
   "pygments_lexer": "ipython3",
   "version": "3.8.6"
  },
  "orig_nbformat": 4,
  "vscode": {
   "interpreter": {
    "hash": "e2cde104f4d18245c788b079dac12b495c585d850f7488bacbf703b0b6afa06c"
   }
  }
 },
 "nbformat": 4,
 "nbformat_minor": 2
}
